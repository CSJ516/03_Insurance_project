{
 "cells": [
  {
   "cell_type": "code",
   "execution_count": 16,
   "metadata": {},
   "outputs": [],
   "source": [
    "import numpy as np\n",
    "import pandas as pd"
   ]
  },
  {
   "cell_type": "code",
   "execution_count": 17,
   "metadata": {},
   "outputs": [
    {
     "data": {
      "text/html": [
       "<div>\n",
       "<style scoped>\n",
       "    .dataframe tbody tr th:only-of-type {\n",
       "        vertical-align: middle;\n",
       "    }\n",
       "\n",
       "    .dataframe tbody tr th {\n",
       "        vertical-align: top;\n",
       "    }\n",
       "\n",
       "    .dataframe thead th {\n",
       "        text-align: right;\n",
       "    }\n",
       "</style>\n",
       "<table border=\"1\" class=\"dataframe\">\n",
       "  <thead>\n",
       "    <tr style=\"text-align: right;\">\n",
       "      <th></th>\n",
       "      <th>순서에 따라 키워드 나열하기(신규가입)</th>\n",
       "      <th>순서에 따라 키워드 나열하기(타상품 중도해지 후 신규가입)</th>\n",
       "    </tr>\n",
       "  </thead>\n",
       "  <tbody>\n",
       "    <tr>\n",
       "      <th>0</th>\n",
       "      <td>보험상품</td>\n",
       "      <td>보험상품</td>\n",
       "    </tr>\n",
       "    <tr>\n",
       "      <th>1</th>\n",
       "      <td>가입</td>\n",
       "      <td>가입</td>\n",
       "    </tr>\n",
       "    <tr>\n",
       "      <th>2</th>\n",
       "      <td>보장</td>\n",
       "      <td>보장</td>\n",
       "    </tr>\n",
       "    <tr>\n",
       "      <th>3</th>\n",
       "      <td>상품</td>\n",
       "      <td>상품</td>\n",
       "    </tr>\n",
       "    <tr>\n",
       "      <th>4</th>\n",
       "      <td>지급</td>\n",
       "      <td>기존</td>\n",
       "    </tr>\n",
       "    <tr>\n",
       "      <th>5</th>\n",
       "      <td>가능</td>\n",
       "      <td>중도</td>\n",
       "    </tr>\n",
       "    <tr>\n",
       "      <th>6</th>\n",
       "      <td>보험료</td>\n",
       "      <td>해지</td>\n",
       "    </tr>\n",
       "    <tr>\n",
       "      <th>7</th>\n",
       "      <td>액수</td>\n",
       "      <td>신규</td>\n",
       "    </tr>\n",
       "    <tr>\n",
       "      <th>8</th>\n",
       "      <td>한도</td>\n",
       "      <td>불이익</td>\n",
       "    </tr>\n",
       "    <tr>\n",
       "      <th>9</th>\n",
       "      <td>갱신</td>\n",
       "      <td>발생</td>\n",
       "    </tr>\n",
       "    <tr>\n",
       "      <th>10</th>\n",
       "      <td>사고</td>\n",
       "      <td>지급</td>\n",
       "    </tr>\n",
       "    <tr>\n",
       "      <th>11</th>\n",
       "      <td>발생</td>\n",
       "      <td>가능</td>\n",
       "    </tr>\n",
       "    <tr>\n",
       "      <th>12</th>\n",
       "      <td>보험금</td>\n",
       "      <td>보험료</td>\n",
       "    </tr>\n",
       "    <tr>\n",
       "      <th>13</th>\n",
       "      <td>보험기간</td>\n",
       "      <td>액수</td>\n",
       "    </tr>\n",
       "    <tr>\n",
       "      <th>14</th>\n",
       "      <td>만기</td>\n",
       "      <td>한도</td>\n",
       "    </tr>\n",
       "    <tr>\n",
       "      <th>15</th>\n",
       "      <td>만기환급금</td>\n",
       "      <td>갱신</td>\n",
       "    </tr>\n",
       "    <tr>\n",
       "      <th>16</th>\n",
       "      <td>중도</td>\n",
       "      <td>사고</td>\n",
       "    </tr>\n",
       "    <tr>\n",
       "      <th>17</th>\n",
       "      <td>해지</td>\n",
       "      <td>발생</td>\n",
       "    </tr>\n",
       "    <tr>\n",
       "      <th>18</th>\n",
       "      <td>NaN</td>\n",
       "      <td>보험금</td>\n",
       "    </tr>\n",
       "    <tr>\n",
       "      <th>19</th>\n",
       "      <td>NaN</td>\n",
       "      <td>보험기간</td>\n",
       "    </tr>\n",
       "    <tr>\n",
       "      <th>20</th>\n",
       "      <td>NaN</td>\n",
       "      <td>만기</td>\n",
       "    </tr>\n",
       "    <tr>\n",
       "      <th>21</th>\n",
       "      <td>NaN</td>\n",
       "      <td>만기환급금</td>\n",
       "    </tr>\n",
       "    <tr>\n",
       "      <th>22</th>\n",
       "      <td>NaN</td>\n",
       "      <td>중도해지</td>\n",
       "    </tr>\n",
       "  </tbody>\n",
       "</table>\n",
       "</div>"
      ],
      "text/plain": [
       "   순서에 따라 키워드 나열하기(신규가입) 순서에 따라 키워드 나열하기(타상품 중도해지 후 신규가입)\n",
       "0                   보험상품                             보험상품\n",
       "1                     가입                               가입\n",
       "2                     보장                               보장\n",
       "3                     상품                               상품\n",
       "4                     지급                               기존\n",
       "5                     가능                               중도\n",
       "6                    보험료                               해지\n",
       "7                     액수                               신규\n",
       "8                     한도                              불이익\n",
       "9                     갱신                               발생\n",
       "10                    사고                               지급\n",
       "11                    발생                               가능\n",
       "12                   보험금                              보험료\n",
       "13                  보험기간                               액수\n",
       "14                    만기                               한도\n",
       "15                 만기환급금                               갱신\n",
       "16                    중도                               사고\n",
       "17                    해지                               발생\n",
       "18                   NaN                              보험금\n",
       "19                   NaN                             보험기간\n",
       "20                   NaN                               만기\n",
       "21                   NaN                            만기환급금\n",
       "22                   NaN                             중도해지"
      ]
     },
     "execution_count": 17,
     "metadata": {},
     "output_type": "execute_result"
    }
   ],
   "source": [
    "data = pd.read_excel('불완전판매키워드.xlsx')\n",
    "data"
   ]
  },
  {
   "cell_type": "code",
   "execution_count": 18,
   "metadata": {},
   "outputs": [
    {
     "data": {
      "text/plain": [
       "0      보험상품\n",
       "1        가입\n",
       "2        보장\n",
       "3        상품\n",
       "4        지급\n",
       "5        가능\n",
       "6       보험료\n",
       "7        액수\n",
       "8        한도\n",
       "9        갱신\n",
       "10       사고\n",
       "11       발생\n",
       "12      보험금\n",
       "13     보험기간\n",
       "14       만기\n",
       "15    만기환급금\n",
       "16       중도\n",
       "17       해지\n",
       "Name: 순서에 따라 키워드 나열하기(신규가입), dtype: object"
      ]
     },
     "execution_count": 18,
     "metadata": {},
     "output_type": "execute_result"
    }
   ],
   "source": [
    "new = data.iloc[:,0]\n",
    "new = new.dropna(axis=0)\n",
    "new"
   ]
  },
  {
   "cell_type": "code",
   "execution_count": 19,
   "metadata": {},
   "outputs": [
    {
     "data": {
      "text/plain": [
       "['보험상품',\n",
       " '가입',\n",
       " '보장',\n",
       " '상품',\n",
       " '지급',\n",
       " '가능',\n",
       " '보험료',\n",
       " '액수',\n",
       " '한도',\n",
       " '갱신',\n",
       " '사고',\n",
       " '발생',\n",
       " '보험금',\n",
       " '보험기간',\n",
       " '만기',\n",
       " '만기환급금',\n",
       " '중도',\n",
       " '해지']"
      ]
     },
     "execution_count": 19,
     "metadata": {},
     "output_type": "execute_result"
    }
   ],
   "source": [
    "new_list = list(new)\n",
    "new_list"
   ]
  },
  {
   "cell_type": "code",
   "execution_count": 20,
   "metadata": {},
   "outputs": [
    {
     "data": {
      "text/plain": [
       "'#-*- coding: utf-8 -*-\\n혹시 지금 가입중인 보험상품에는 어떤거 있으세요? \\n실비를 원하시는거죠?\\n실비만 알아보시는 거면은 따로 그렇게 알아보실 필요는 없고요 \\n저희가 이제 2019년도 이후로 해 가지고 전 보험사에서 실손보험 파는 상품이다 동일하게 팔고 있어요 \\n단독 실손 이라고 해 가지고 이제 따로 나와서 이제 금감원에서 이렇게 통제를 다 하고 있는데 \\n내용 보장내용은 똑같죠 다 동일하다고 보시면 되고 \\n가입하실 때 제일 중요하게 생각한게 동일하니까 이제 슬슬 그러는 건데요 \\n보상 그 관계를 두고 이제 고객하고 분쟁이 \\n그 관계를 두고 이제 고객하고 분쟁이 얼마나 있느냐 요런 게 없는 회사를 고르는 게 가장 중요하시죠\\n그리고 또 이제 보상청구 하실 때 청구 제기가 좀 간편한 쪽으로 그렇게 가입하시는 게 가장 좋아요 \\n저희 농협 같은 경우는 이제 농협 은행 가서 보험금 청구가 가능하시고, 보험사에서 이렇게 통계의 집계한 거 보면은 \\n저희 회사가 가장 이제 부지급률이 가장 적은 회사구요 예 저희 쪽으로 진행하시면 좋으시죠 \\n혹시 어머니께서 하신 거죠 어머니께서 현재 상태가 이전에 마지막으로 치료 받으신 게 어떤 7월 받으셨어요 \\n충치 레진 임플란트 요런 거는 받으신 적 있으신가요 \\n그러면은 현재 건강하시다면 이제  갑자기 막 임플란트를 해야 되고 그러지는 않아요 \\n건강한치아 해서 이제 치료를 받으시기 가 된다고 하면은 치아가 이제 충치가 생기고 기본적으로 처음에 받는 치료 같은 거는 뭐 \\n이제 충치에 갈아낸다 레진으로 충치치료를 하든가 아니면 조금 심하면 언제 크라운 씌우기도하고 그러는데요 \\n그렇게 먼저 치료를 받고 나서 거기서 이제 상황이 더 좀 더 심해지면 속에서 이제 임플란트를 하고 아니면 브릿지나 1시간 뒤에 목 브릿지를 하든가 아니면 \\n더 심하면 편리함까지 도착하게 지금 그렇게 되는 것도 건강하시 다니까 이제 임플란트나 며칠까지 고려하실 사람 없으신 거 같고\\n그래서 이제 지금 말씀드린 대로 고객 가입하실 어머니께서 상황에 따라서 필요한 거 필요한 특약만 넣어 가지고 가입을 하시면 돼요  \\n'"
      ]
     },
     "execution_count": 20,
     "metadata": {},
     "output_type": "execute_result"
    }
   ],
   "source": [
    "f  = open('NH(new_not).txt', 'rt', encoding='UTF8')\n",
    "script = f.read()\n",
    "script"
   ]
  },
  {
   "cell_type": "code",
   "execution_count": 21,
   "metadata": {},
   "outputs": [],
   "source": [
    "# 키워드 포함률 추출\n",
    "def same_percent(new_list, script):\n",
    "    same=[]\n",
    "    for i in new_list:\n",
    "        if i in script:\n",
    "            same.append(i)\n",
    "    same_word = len(same)\n",
    "    all_word = len(new_list)\n",
    "    n = same_word/all_word*100 \n",
    "    print(round(n,2),\"%의 설명이 이루어졌습니다.\")\n",
    "\n",
    "# 설명하지 않은 키워드 추출\n",
    "def no(new_list, script):\n",
    "    for i in new:\n",
    "        if i not in script:\n",
    "            print(i + '에 대해서는 설계사가 설명하지 않았습니다.')"
   ]
  },
  {
   "cell_type": "code",
   "execution_count": 22,
   "metadata": {},
   "outputs": [
    {
     "name": "stdout",
     "output_type": "stream",
     "text": [
      "44.44 %의 설명이 이루어졌습니다.\n",
      "보험료에 대해서는 설계사가 설명하지 않았습니다.\n",
      "액수에 대해서는 설계사가 설명하지 않았습니다.\n",
      "한도에 대해서는 설계사가 설명하지 않았습니다.\n",
      "갱신에 대해서는 설계사가 설명하지 않았습니다.\n",
      "사고에 대해서는 설계사가 설명하지 않았습니다.\n",
      "발생에 대해서는 설계사가 설명하지 않았습니다.\n",
      "보험기간에 대해서는 설계사가 설명하지 않았습니다.\n",
      "만기에 대해서는 설계사가 설명하지 않았습니다.\n",
      "만기환급금에 대해서는 설계사가 설명하지 않았습니다.\n",
      "중도에 대해서는 설계사가 설명하지 않았습니다.\n"
     ]
    }
   ],
   "source": [
    "same_percent(new_list,script)\n",
    "no(new_list,script)"
   ]
  },
  {
   "cell_type": "code",
   "execution_count": 23,
   "metadata": {},
   "outputs": [
    {
     "data": {
      "text/plain": [
       "'지금 혹시 가입중인 보험상품이 따로 있으신가요?\\n어떤 보험상품 가입을 원하세요?\\n실비만 알아보시는 거면은 따로 그렇게 알아보실 필요는 없고요 \\n저희가 이제 2019년도 이후로 해 가지고 전 보험사에서 실손보험 파는 상품은 전부 보장사항이 동일해요\\n단독 실손 이라고 해 가지고 이제 따로 나와서 이제 금감원에서 이렇게 통제를 다 하고 있는데 \\n내용 보장내용은 똑같죠 다 동일하다고 보시면 되고 \\n가입하실 때 제일 중요하게 생각한게 동일하니까 이제 슬슬 그러는 건데요 \\n보상 그 관계를 두고 이제 고객하고 분쟁이 \\n그 관계를 두고 이제 고객하고 분쟁이 얼마나 있느냐 요런 게 없는 회사를 고르는 게 가장 중요하시죠\\n만약 중도에 기존에 가입하고계신 상품을 해지하고 저희 상품에 신규 가입하게 되면 고객님께 이러한 불이익이 발생할 수 있어요\\n그리고 또 이제 보상청구 하실 때 청구 제기가 좀 간편한 쪽으로 그렇게 가입하시는 게 가장 좋아요 \\n그래야 보험금을 편하고 빠르게 지급받으실 수 있으니까\\n저희 농협 같은 경우는 이제 농협 은행 가서 보험금 청구가 가능하시고, 보험사에서 이렇게 통계의 집계한 거 보면은 \\n저희 회사가 가장 이제 부지급률이 가장 적은 회사구요 예 저희 쪽으로 진행하시면 좋으시죠 \\n혹시 어머니께서 하신 거죠 어머니께서 현재 상태가 이전에 마지막으로 치료 받으신 게 어떤 7월 받으셨어요 \\n충치 레진 임플란트 요런 거는 받으신 적 있으신가요 \\n그러면은 현재 건강하시다면 이제  갑자기 막 임플란트를 해야 되고 그러지는 않아요 그래서 보험상품에 가입이 가능하다고 보실 수 있겠구요\\n건강한치아 해서 이제 치료를 받으시기 가 된다고 하면은 치아가 이제 충치가 생기고 기본적으로 처음에 받는 치료 같은 거는 뭐 \\n이제 충치에 갈아낸다 레진으로 충치치료를 하든가 아니면 조금 심하면 언제 크라운 씌우기도하고 그러는데요 \\n그렇게 먼저 치료를 받고 나서 거기서 이제 상황이 더 좀 더 심해지면 속에서 이제 임플란트를 하고 아니면 브릿지나 1시간 뒤에 목 브릿지를 하든가 아니면 \\n더 심하면 편리함까지 도착하게 지금 그렇게 되는 것도 건강하시 다니까 이제 임플란트나 며칠까지 고려하실 사람 없으신 거 같고\\n그래서 이제 지금 말씀드린 대로 고객 가입하실 어머니께서 상황에 따라서 필요한 거 필요한 특약만 넣어 가지고 가입을 하시면 돼요  \\n보험료는 특약을 추가하는거에 따라서 달라지고요, 특약 따라서 지급받게 되는 보험금의 액수도 달라지세요\\n보상한도는 보험기간 내에 까지 보상을 해드려요 \\n만기는 까지구요 지금 상품은 만기환급금이 없는 상품이세요\\n'"
      ]
     },
     "execution_count": 23,
     "metadata": {},
     "output_type": "execute_result"
    }
   ],
   "source": [
    "f = open('NH(new_perfect).txt','rt', encoding='UTF8')\n",
    "perfect_script = f.read()\n",
    "perfect_script"
   ]
  },
  {
   "cell_type": "code",
   "execution_count": 24,
   "metadata": {},
   "outputs": [
    {
     "data": {
      "text/plain": [
       "0      보험상품\n",
       "1        가입\n",
       "2        보장\n",
       "3        상품\n",
       "4        기존\n",
       "5        중도\n",
       "6        해지\n",
       "7        신규\n",
       "8       불이익\n",
       "9        발생\n",
       "10       지급\n",
       "11       가능\n",
       "12      보험료\n",
       "13       액수\n",
       "14       한도\n",
       "15       갱신\n",
       "16       사고\n",
       "17       발생\n",
       "18      보험금\n",
       "19     보험기간\n",
       "20       만기\n",
       "21    만기환급금\n",
       "22     중도해지\n",
       "Name: 순서에 따라 키워드 나열하기(타상품 중도해지 후 신규가입), dtype: object"
      ]
     },
     "execution_count": 24,
     "metadata": {},
     "output_type": "execute_result"
    }
   ],
   "source": [
    "not_new = data.iloc[:,1]\n",
    "not_new = not_new.dropna(axis=0)\n",
    "not_new"
   ]
  },
  {
   "cell_type": "code",
   "execution_count": 25,
   "metadata": {},
   "outputs": [
    {
     "name": "stdout",
     "output_type": "stream",
     "text": [
      "86.96 %의 설명이 이루어졌습니다.\n",
      "갱신에 대해서는 설계사가 설명하지 않았습니다.\n",
      "사고에 대해서는 설계사가 설명하지 않았습니다.\n"
     ]
    }
   ],
   "source": [
    "same_percent(not_new,perfect_script)\n",
    "no(not_new,perfect_script)\n"
   ]
  },
  {
   "cell_type": "code",
   "execution_count": null,
   "metadata": {},
   "outputs": [],
   "source": []
  }
 ],
 "metadata": {
  "kernelspec": {
   "display_name": "Python 3",
   "language": "python",
   "name": "python3"
  },
  "language_info": {
   "codemirror_mode": {
    "name": "ipython",
    "version": 3
   },
   "file_extension": ".py",
   "mimetype": "text/x-python",
   "name": "python",
   "nbconvert_exporter": "python",
   "pygments_lexer": "ipython3",
   "version": "3.7.6"
  }
 },
 "nbformat": 4,
 "nbformat_minor": 2
}
